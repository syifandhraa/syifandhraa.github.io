{
  "nbformat": 4,
  "nbformat_minor": 0,
  "metadata": {
    "kernelspec": {
      "display_name": "Python 3",
      "language": "python",
      "name": "python3"
    },
    "language_info": {
      "codemirror_mode": {
        "name": "ipython",
        "version": 3
      },
      "file_extension": ".py",
      "mimetype": "text/x-python",
      "name": "python",
      "nbconvert_exporter": "python",
      "pygments_lexer": "ipython3",
      "version": "3.8.8"
    },
    "colab": {
      "name": "[SOAL] Pertemuan 14_Tugas Mandiri.ipynb",
      "provenance": [],
      "collapsed_sections": []
    }
  },
  "cells": [
    {
      "cell_type": "markdown",
      "metadata": {
        "id": "llmZoCWEcpD4"
      },
      "source": [
        "![header%20ipynb.png](attachment:header%20ipynb.png)"
      ]
    },
    {
      "cell_type": "markdown",
      "metadata": {
        "id": "j_VKerlhcpD8"
      },
      "source": [
        "# Hands-On\n",
        "---\n",
        "\n",
        "Hands-On ini digunakan pada kegiatan Microcredential Associate Data Scientist 2021"
      ]
    },
    {
      "cell_type": "markdown",
      "metadata": {
        "id": "P3qej8ZGcpD8"
      },
      "source": [
        "# Tugas Mandiri Pertemuan 14\n",
        "---\n",
        "Pertemuan 14 (empatbelas) pada Microcredential Associate Data Scientist 2021 menyampaikan materi mengenai Membangun Model (RNN dan LSTM). silakan Anda kerjakan Latihan 1 s/d 5. Output yang anda lihat merupakan panduan yang dapat Anda ikuti dalam penulisan code :)"
      ]
    },
    {
      "cell_type": "markdown",
      "metadata": {
        "id": "u1YdzavQcpD9"
      },
      "source": [
        "# RNN\n",
        "\n",
        "Jaringan saraf berulang atau recurrent neural network (RNN) adalah jenis arsitektur jaringan saraf tiruan yang pemrosesannya dipanggil berulang-ulang untuk memroses masukan yang biasanya adalah data sekuensial. RNN masuk dalam kategori deep learning karena data diproses melalui banyak lapis (layer). RNN telah mengalami kemajuan yang pesat dan telah merevolusi bidang-bidang seperti pemrosesan bahasa alami (NLP), pengenalan suara, sintesa musik, pemrosesan data finansial seri waktu, analisa deret DNA, analisa video, dan sebagainya.\n",
        "\n",
        "\n",
        "RNN memroses input secara sekuensial, sampel per sampel. Dalam tiap pemrosesan, output yang dihasilkan tidak hanya merupakan fungsi dari sampel itu saja, tapi juga berdasarkan state internal yang merupakan hasil dari pemrosesan sampel-sampel sebelumnya (atau setelahnya, pada bidirectional RNN).\n",
        "\n",
        "Berikut adalah ilustrasi bagaimana RNN bekerja. Misalnya kita membuat RNN untuk menerjemahkan bahasa Indonesia ke bahasa Inggris\n",
        "\n",
        "![image.png](attachment:image.png)\n",
        "\n",
        "Ilustrasi di atas kelihatan rumit, tapi sebenarnya cukup mudah dipahami.\n",
        "\n",
        "* sumbu horizontal adalah waktu, direpresentasikan dengan simbol t. Dapat kita bayangkan pemrosesan berjalan dari kiri ke kanan. Selanjutnya kita sebut t adalah langkah waktu (time step).\n",
        "\n",
        "* Keseluruhan input adalah kalimat, dalam hal ini:\n",
        "        Budi pergi ke sekolah.\n",
        "\n",
        "* Pemrosean input oleh RNN adalah kata demi kata. Input kata-kata ini disimbolkan dengan x1 ,x2 , … ,x5 , atau secara umum xt.\n",
        "\n",
        "* Output adalah kalimat, dalam hal ini:\n",
        "        Budi goes to school.\n",
        " \n",
        "* RNN memberikan output kata demi kata, dan ini kita simbolkan dengan ŷ1, ŷ2,  …, ŷ5 , atau secara umum ŷt .\n",
        "* Dalam tiap pemrosesan, RNN akan menyimpan state internal yaitu st, yang  diberikan dari satu langkah waktu ke langkah waktu berikutnya. Inilah “memori” dari RNN.\n",
        "\n",
        "Dengan contoh di atas, kita bisa generalisasikan arsitektur RNN sebagai berikut:\n",
        "\n",
        "![image-2.png](attachment:image-2.png)\n",
        "\n",
        "Tambahan yang tidak terdapat di diagram sebelumnya adalah U, V, dan W, yang merupakan parameter-parameter yang dimiliki RNN. Kita akan bahas pemakaian parameter-parameter ini nanti.\n",
        "\n",
        "Penting untuk dipahami bahwa walaupun ada empat kotak RNN di gambar di atas, empat kotak itu mencerminkan satu modul RNN yang sama (satu instans model dengan parameter-parameter U, V, dan W yang sama). Penggambaran di atas hanya agar aspek sekuensialnya lebih tergambar.\n",
        "\n",
        "Alternatif representasinya adalah seperti ini, agar lebih jelas bahwa hanya ada satu modul RNN:\n",
        "![image-3.png](attachment:image-3.png)\n",
        "\n",
        "Inilah sebabnya kenapa arsitektur ini disebut RNN. Kata recurrent (berulang) dalam RNN timbul karena RNN melakukan perhitungan yang sama secara berulang-ulang atas input yang kita berikan.\n",
        "\n",
        "Sering juga kedua ilustrasi di atas digabungkan jadi satu sbb:\n",
        "![image-4.png](attachment:image-4.png)\n",
        "Sesuai dengan gambar di atas, ilustrasi di sebelah kanan adalah penjabaran (unrolled) dari versi berulang di sebelah kiri."
      ]
    },
    {
      "cell_type": "markdown",
      "metadata": {
        "id": "aLjmyqdncpD9"
      },
      "source": [
        "# Latihan (1)\n",
        "\n",
        "### Melakukan import library yang dibutuhkan"
      ]
    },
    {
      "cell_type": "code",
      "metadata": {
        "_cell_guid": "b1076dfc-b9ad-4769-8c92-a6c4dae69d19",
        "_uuid": "8f2839f25d086af736a60e9eeb907d3b93b6e0e5",
        "id": "AdUxzQ50cpD-"
      },
      "source": [
        "# import library pandas\n",
        "import pandas as pd\n",
        "\n",
        "# Import library numpy\n",
        "import numpy as np\n",
        "\n",
        "# Import library matplotlib dan seaborn untuk visualisasi\n",
        "import matplotlib.pyplot as plt\n",
        "import seaborn as sns\n",
        "plt.style.use('seaborn')\n",
        "\n",
        "# import library for build model \n",
        "from keras.models import Sequential\n",
        "from keras.layers import LSTM, Dense, Dropout, Masking, Embedding\n",
        "from keras.layers import SimpleRNN\n",
        "\n",
        "# import library untuk data preprocessing\n",
        "from sklearn.preprocessing import MinMaxScaler\n",
        "from sklearn.model_selection import train_test_split\n",
        "from sklearn.metrics import r2_score"
      ],
      "execution_count": null,
      "outputs": []
    },
    {
      "cell_type": "markdown",
      "metadata": {
        "id": "2voW_M-XcpD_"
      },
      "source": [
        "### Load Dataset"
      ]
    },
    {
      "cell_type": "code",
      "metadata": {
        "colab": {
          "resources": {
            "http://localhost:8080/nbextensions/google.colab/files.js": {
              "data": "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",
              "ok": true,
              "headers": [
                [
                  "content-type",
                  "application/javascript"
                ]
              ],
              "status": 200,
              "status_text": ""
            }
          },
          "base_uri": "https://localhost:8080/",
          "height": 73
        },
        "id": "6Xbaags5e6PN",
        "outputId": "ba9ad9ca-2276-46ae-f2cb-c3fde3e9bb81"
      },
      "source": [
        "#Panggil file\n",
        "from google.colab import files\n",
        "data =files.upload()"
      ],
      "execution_count": null,
      "outputs": [
        {
          "output_type": "display_data",
          "data": {
            "text/html": [
              "\n",
              "     <input type=\"file\" id=\"files-e5d9c777-62dc-4b9a-83c2-fdf95db77a2b\" name=\"files[]\" multiple disabled\n",
              "        style=\"border:none\" />\n",
              "     <output id=\"result-e5d9c777-62dc-4b9a-83c2-fdf95db77a2b\">\n",
              "      Upload widget is only available when the cell has been executed in the\n",
              "      current browser session. Please rerun this cell to enable.\n",
              "      </output>\n",
              "      <script src=\"/nbextensions/google.colab/files.js\"></script> "
            ],
            "text/plain": [
              "<IPython.core.display.HTML object>"
            ]
          },
          "metadata": {}
        },
        {
          "output_type": "stream",
          "name": "stdout",
          "text": [
            "Saving Stock.csv to Stock.csv\n"
          ]
        }
      ]
    },
    {
      "cell_type": "code",
      "metadata": {
        "id": "Q66FDAEwcpD_"
      },
      "source": [
        "#Panggil file (load file bernama Stock.csv) dan simpan dalam dataframe\n",
        "dataset =\"Stock.csv\"\n",
        "data = pd.read_csv(dataset)"
      ],
      "execution_count": null,
      "outputs": []
    },
    {
      "cell_type": "code",
      "metadata": {
        "colab": {
          "base_uri": "https://localhost:8080/",
          "height": 206
        },
        "id": "E9vT2694cpEA",
        "outputId": "dad876f1-ea6e-4999-8571-63a97bf04300"
      },
      "source": [
        "# tampilkan 5 baris data \n",
        "data.head()"
      ],
      "execution_count": null,
      "outputs": [
        {
          "output_type": "execute_result",
          "data": {
            "text/html": [
              "<div>\n",
              "<style scoped>\n",
              "    .dataframe tbody tr th:only-of-type {\n",
              "        vertical-align: middle;\n",
              "    }\n",
              "\n",
              "    .dataframe tbody tr th {\n",
              "        vertical-align: top;\n",
              "    }\n",
              "\n",
              "    .dataframe thead th {\n",
              "        text-align: right;\n",
              "    }\n",
              "</style>\n",
              "<table border=\"1\" class=\"dataframe\">\n",
              "  <thead>\n",
              "    <tr style=\"text-align: right;\">\n",
              "      <th></th>\n",
              "      <th>Date</th>\n",
              "      <th>Open</th>\n",
              "      <th>High</th>\n",
              "      <th>Low</th>\n",
              "      <th>Close</th>\n",
              "      <th>Volume</th>\n",
              "      <th>Name</th>\n",
              "    </tr>\n",
              "  </thead>\n",
              "  <tbody>\n",
              "    <tr>\n",
              "      <th>0</th>\n",
              "      <td>2006-01-03</td>\n",
              "      <td>56.45</td>\n",
              "      <td>56.66</td>\n",
              "      <td>55.46</td>\n",
              "      <td>56.53</td>\n",
              "      <td>3716500</td>\n",
              "      <td>UTX</td>\n",
              "    </tr>\n",
              "    <tr>\n",
              "      <th>1</th>\n",
              "      <td>2006-01-04</td>\n",
              "      <td>56.80</td>\n",
              "      <td>56.80</td>\n",
              "      <td>55.84</td>\n",
              "      <td>56.19</td>\n",
              "      <td>3114500</td>\n",
              "      <td>UTX</td>\n",
              "    </tr>\n",
              "    <tr>\n",
              "      <th>2</th>\n",
              "      <td>2006-01-05</td>\n",
              "      <td>56.30</td>\n",
              "      <td>56.49</td>\n",
              "      <td>55.63</td>\n",
              "      <td>55.98</td>\n",
              "      <td>3118900</td>\n",
              "      <td>UTX</td>\n",
              "    </tr>\n",
              "    <tr>\n",
              "      <th>3</th>\n",
              "      <td>2006-01-06</td>\n",
              "      <td>56.45</td>\n",
              "      <td>56.67</td>\n",
              "      <td>56.10</td>\n",
              "      <td>56.16</td>\n",
              "      <td>2874300</td>\n",
              "      <td>UTX</td>\n",
              "    </tr>\n",
              "    <tr>\n",
              "      <th>4</th>\n",
              "      <td>2006-01-09</td>\n",
              "      <td>56.37</td>\n",
              "      <td>56.90</td>\n",
              "      <td>56.16</td>\n",
              "      <td>56.80</td>\n",
              "      <td>2467200</td>\n",
              "      <td>UTX</td>\n",
              "    </tr>\n",
              "  </tbody>\n",
              "</table>\n",
              "</div>"
            ],
            "text/plain": [
              "         Date   Open   High    Low  Close   Volume Name\n",
              "0  2006-01-03  56.45  56.66  55.46  56.53  3716500  UTX\n",
              "1  2006-01-04  56.80  56.80  55.84  56.19  3114500  UTX\n",
              "2  2006-01-05  56.30  56.49  55.63  55.98  3118900  UTX\n",
              "3  2006-01-06  56.45  56.67  56.10  56.16  2874300  UTX\n",
              "4  2006-01-09  56.37  56.90  56.16  56.80  2467200  UTX"
            ]
          },
          "metadata": {},
          "execution_count": 4
        }
      ]
    },
    {
      "cell_type": "markdown",
      "metadata": {
        "id": "VpE7IXZ0cpEA"
      },
      "source": [
        "### Review Data"
      ]
    },
    {
      "cell_type": "code",
      "metadata": {
        "_uuid": "f7be14868f30eaa55193cb7ad2674c72c447fa59",
        "colab": {
          "base_uri": "https://localhost:8080/"
        },
        "id": "reT9rjNJcpEB",
        "outputId": "a66c0f56-b6d2-4749-a18e-7a585ab92918"
      },
      "source": [
        "# Melihat Informasi lebih detail mengenai struktur DataFrame dapat dilihat menggunakan fungsi info()\n",
        "data.info()"
      ],
      "execution_count": null,
      "outputs": [
        {
          "output_type": "stream",
          "name": "stdout",
          "text": [
            "<class 'pandas.core.frame.DataFrame'>\n",
            "RangeIndex: 3020 entries, 0 to 3019\n",
            "Data columns (total 7 columns):\n",
            " #   Column  Non-Null Count  Dtype  \n",
            "---  ------  --------------  -----  \n",
            " 0   Date    3020 non-null   object \n",
            " 1   Open    3019 non-null   float64\n",
            " 2   High    3020 non-null   float64\n",
            " 3   Low     3020 non-null   float64\n",
            " 4   Close   3020 non-null   float64\n",
            " 5   Volume  3020 non-null   int64  \n",
            " 6   Name    3020 non-null   object \n",
            "dtypes: float64(4), int64(1), object(2)\n",
            "memory usage: 165.3+ KB\n"
          ]
        }
      ]
    },
    {
      "cell_type": "code",
      "metadata": {
        "_uuid": "d1c7f3ee1eabccd4186e8046252a379ef7b5cefa",
        "id": "SoYe4G1mcpEB"
      },
      "source": [
        "# Kolom 'low' yang akan kita gunakan dalam membangun model\n",
        "# Slice kolom 'low' \n",
        "\n",
        "Low_data = data.iloc[:,3:4].values"
      ],
      "execution_count": null,
      "outputs": []
    },
    {
      "cell_type": "code",
      "metadata": {
        "_uuid": "3022aa336271cc887b9f29b142f7351c6840a123",
        "colab": {
          "base_uri": "https://localhost:8080/"
        },
        "id": "HAJoSoGOcpEB",
        "outputId": "2a26aaec-8d0a-40e2-ed45-6a51dacd42f3"
      },
      "source": [
        "# cek output low_data\n",
        "Low_data           "
      ],
      "execution_count": null,
      "outputs": [
        {
          "output_type": "execute_result",
          "data": {
            "text/plain": [
              "array([[ 55.46],\n",
              "       [ 55.84],\n",
              "       [ 55.63],\n",
              "       ...,\n",
              "       [126.92],\n",
              "       [127.29],\n",
              "       [127.57]])"
            ]
          },
          "metadata": {},
          "execution_count": 7
        }
      ]
    },
    {
      "cell_type": "code",
      "metadata": {
        "_uuid": "0fba437dbe916d38aa29f7e3b8d3c0058e72cd6f",
        "colab": {
          "base_uri": "https://localhost:8080/",
          "height": 628
        },
        "id": "noKLSfbIcpEB",
        "outputId": "25e485dc-9e2e-4668-e6db-6e9dafe29af0"
      },
      "source": [
        "# Visualizing low_data\n",
        "\n",
        "plt.figure(figsize=(14,10))                 \n",
        "plt.plot(Low_data,c=\"red\")\n",
        "plt.title(\"Microsoft Stock Prices\",fontsize=16)\n",
        "plt.xlabel(\"Days\",fontsize=16)\n",
        "plt.ylabel(\"Scaled Price\",fontsize=16)\n",
        "plt.grid()\n",
        "plt.show()"
      ],
      "execution_count": null,
      "outputs": [
        {
          "output_type": "display_data",
          "data": {
            "image/png": "[encoded data removed]",
            "text/plain": [
              "<Figure size 1008x720 with 1 Axes>"
            ]
          },
          "metadata": {
            "needs_background": "light"
          }
        }
      ]
    },
    {
      "cell_type": "markdown",
      "metadata": {
        "_uuid": "0ed6338b04615f1c9b8aee0c017a21c5f6c9f44e",
        "id": "Cs1MzWABcpEC"
      },
      "source": [
        "# Latihan (2)\n",
        "\n",
        "###  Data Preprocessing"
      ]
    },
    {
      "cell_type": "code",
      "metadata": {
        "_uuid": "77340783a8ce9d6b1a7bd66eb0adf38fb8dea48b",
        "id": "aWeOAR_McpEC"
      },
      "source": [
        "# Menskalakan data antara 1 dan 0 (scaling) pada low data\n",
        "scaler = MinMaxScaler(feature_range=(0,1)) \n",
        "Low_scaled = scaler.fit_transform(Low_data)"
      ],
      "execution_count": null,
      "outputs": []
    },
    {
      "cell_type": "code",
      "metadata": {
        "_uuid": "47988513e859e73a34e041fa5131518451fac658",
        "id": "VFMwkIdDcpEC"
      },
      "source": [
        "# definisikan variabel step dan train \n",
        "step_size = 21 \n",
        "\n",
        "train_x = []\n",
        "train_y = []"
      ],
      "execution_count": null,
      "outputs": []
    },
    {
      "cell_type": "code",
      "metadata": {
        "_uuid": "5b23b8ae7d949d774e89d3c9c4115a941737b5ea",
        "id": "cWk6x7bgcpEC"
      },
      "source": [
        "# membuat fitur dan lists label\n",
        "\n",
        "for i in range(step_size,3019): \n",
        " train_x.append(Low_scaled[i-step_size:i,0])\n",
        " train_y.append(Low_scaled[i,0])\n"
      ],
      "execution_count": null,
      "outputs": []
    },
    {
      "cell_type": "code",
      "metadata": {
        "_uuid": "7afe032f495d63420e151b189c323b91e6fe76d4",
        "id": "cS2a9O5scpEC"
      },
      "source": [
        "# mengonversi list yang telah dibuat sebelumnya ke array\n",
        "\n",
        "train_x = np.array(train_x) \n",
        "train_y = np.array(train_y)"
      ],
      "execution_count": null,
      "outputs": []
    },
    {
      "cell_type": "code",
      "metadata": {
        "_uuid": "c5c05709eb62cd77d0b023ce9c2d4cc9d69bcdcf",
        "id": "G0bQwWWvcpED",
        "colab": {
          "base_uri": "https://localhost:8080/"
        },
        "outputId": "1279c7b8-f4bb-49d2-bd18-6057b87705fc"
      },
      "source": [
        "# cek dimensi data dengan function .shape\n",
        "\n",
        "print(train_x.shape) "
      ],
      "execution_count": null,
      "outputs": [
        {
          "output_type": "stream",
          "name": "stdout",
          "text": [
            "(2998, 21)\n"
          ]
        }
      ]
    },
    {
      "cell_type": "code",
      "metadata": {
        "_uuid": "dfcc9188e7c1329d9f2c10e5d72ea40f4e168802",
        "id": "DBOqLiGdcpED"
      },
      "source": [
        "# 498 hari terakhir akan digunakan dalam pengujian\n",
        "# 2500 hari pertama akan digunakan dalam pelatihan\n",
        "\n",
        "test_x = train_x[2500:] \n",
        "train_x = train_x[:2500] \n",
        "test_y = train_y[2500:] \n",
        "train_y = train_y[:2500]"
      ],
      "execution_count": null,
      "outputs": []
    },
    {
      "cell_type": "code",
      "metadata": {
        "_uuid": "75911a4fb246652ef811a6bc967e2de45ec56bbb",
        "id": "bhGCWf0xcpED"
      },
      "source": [
        "# reshape data untuk dimasukkan kedalam Keras model\n",
        "\n",
        "train_x = np.reshape(train_x, (2500, step_size, 1)) \n",
        "test_x = np.reshape(test_x, (498, step_size, 1))"
      ],
      "execution_count": null,
      "outputs": []
    },
    {
      "cell_type": "code",
      "metadata": {
        "_uuid": "39807a2261f198b8ad0e1b15f7d277bac14fbe79",
        "id": "17E8xh4ScpED",
        "colab": {
          "base_uri": "https://localhost:8080/"
        },
        "outputId": "521bed41-d78b-417c-8e6f-0823bc02ccb2"
      },
      "source": [
        "# cek kembali dimensi data yang telah di reshape dengan function .shape\n",
        "\n",
        "print(train_x.shape)\n",
        "print(test_x.shape) "
      ],
      "execution_count": null,
      "outputs": [
        {
          "output_type": "stream",
          "name": "stdout",
          "text": [
            "(2500, 21, 1)\n",
            "(498, 21, 1)\n"
          ]
        }
      ]
    },
    {
      "cell_type": "markdown",
      "metadata": {
        "_uuid": "36ce211bae2ce73bb74f9c68bebd8341bfa4dcaa",
        "id": "zMUKM16rcpED"
      },
      "source": [
        "Sekarang kita bisa mulai membuat model kita, dimulai dengan RNN"
      ]
    },
    {
      "cell_type": "markdown",
      "metadata": {
        "_uuid": "0ed6338b04615f1c9b8aee0c017a21c5f6c9f44e",
        "id": "VKHlnS7ccpED"
      },
      "source": [
        "# Latihan (3)\n",
        "\n",
        "###  Build Model - RNN"
      ]
    },
    {
      "cell_type": "code",
      "metadata": {
        "_uuid": "7c537bd5662768a89af0ca153cc873dffe3c357f",
        "id": "ZsoMgXiYcpED"
      },
      "source": [
        "# buat varibel penampung model RNN\n",
        "rnn_model = Sequential()"
      ],
      "execution_count": null,
      "outputs": []
    },
    {
      "cell_type": "code",
      "metadata": {
        "_uuid": "b8d82124786360d2839b63165fb242921d93f8a1",
        "id": "_dO6KVDocpEE"
      },
      "source": [
        "# Output dari SimpleRNN akan menjadi bentuk tensor 2D (batch_size, 40) dengan Dropout sebesar 0.15\n",
        "\n",
        "rnn_model.add(SimpleRNN(40,activation=\"tanh\",return_sequences=True, \n",
        "input_shape=(train_x.shape[1],1)))\n",
        "rnn_model.add(Dropout(0.15))\n",
        "\n",
        "rnn_model.add(SimpleRNN(40,activation=\"tanh\",return_sequences=True))\n",
        "rnn_model.add(Dropout(0.15))\n",
        "\n",
        "rnn_model.add(SimpleRNN(40,activation=\"tanh\",return_sequences=False))\n",
        "rnn_model.add(Dropout(0.15))\n",
        "\n",
        "# Add a Dense layer with 1 units.\n",
        "rnn_model.add(Dense(1))"
      ],
      "execution_count": null,
      "outputs": []
    },
    {
      "cell_type": "code",
      "metadata": {
        "_uuid": "e6bfdf03b0efa3c44f001b9f3861de965c8461a8",
        "id": "pXNRpMy7cpEE"
      },
      "source": [
        "# menambahkan loss function kedalam model RNN dengan tipe MSE\n",
        "\n",
        "rnn_model.compile(optimizer=\"adam\",loss=\"MSE\")"
      ],
      "execution_count": null,
      "outputs": []
    },
    {
      "cell_type": "code",
      "metadata": {
        "_uuid": "44d96eb8a0fa58ecfa5d17df71306006b254ad12",
        "id": "X29FOJi9cpEE",
        "colab": {
          "base_uri": "https://localhost:8080/"
        },
        "outputId": "1f18fbdf-a72f-41e9-80e7-9f894f5f7933"
      },
      "source": [
        "# fit the model RNN, dengan epoch 20 dan batch size 25\n",
        "\n",
        "rnn_model.fit(train_x,train_y,epochs=20,batch_size=25)"
      ],
      "execution_count": null,
      "outputs": [
        {
          "output_type": "stream",
          "name": "stdout",
          "text": [
            "Epoch 1/20\n",
            "100/100 [==============================] - 3s 12ms/step - loss: 0.1430\n",
            "Epoch 2/20\n",
            "100/100 [==============================] - 1s 12ms/step - loss: 0.0402\n",
            "Epoch 3/20\n",
            "100/100 [==============================] - 1s 11ms/step - loss: 0.0237\n",
            "Epoch 4/20\n",
            "100/100 [==============================] - 1s 12ms/step - loss: 0.0161\n",
            "Epoch 5/20\n",
            "100/100 [==============================] - 1s 12ms/step - loss: 0.0113\n",
            "Epoch 6/20\n",
            "100/100 [==============================] - 1s 11ms/step - loss: 0.0100\n",
            "Epoch 7/20\n",
            "100/100 [==============================] - 1s 12ms/step - loss: 0.0087\n",
            "Epoch 8/20\n",
            "100/100 [==============================] - 1s 12ms/step - loss: 0.0071\n",
            "Epoch 9/20\n",
            "100/100 [==============================] - 1s 12ms/step - loss: 0.0067\n",
            "Epoch 10/20\n",
            "100/100 [==============================] - 1s 12ms/step - loss: 0.0056\n",
            "Epoch 11/20\n",
            "100/100 [==============================] - 1s 12ms/step - loss: 0.0047\n",
            "Epoch 12/20\n",
            "100/100 [==============================] - 1s 11ms/step - loss: 0.0047\n",
            "Epoch 13/20\n",
            "100/100 [==============================] - 1s 11ms/step - loss: 0.0043\n",
            "Epoch 14/20\n",
            "100/100 [==============================] - 1s 11ms/step - loss: 0.0041\n",
            "Epoch 15/20\n",
            "100/100 [==============================] - 1s 11ms/step - loss: 0.0035\n",
            "Epoch 16/20\n",
            "100/100 [==============================] - 1s 12ms/step - loss: 0.0036\n",
            "Epoch 17/20\n",
            "100/100 [==============================] - 1s 11ms/step - loss: 0.0034\n",
            "Epoch 18/20\n",
            "100/100 [==============================] - 1s 11ms/step - loss: 0.0031\n",
            "Epoch 19/20\n",
            "100/100 [==============================] - 1s 11ms/step - loss: 0.0030\n",
            "Epoch 20/20\n",
            "100/100 [==============================] - 1s 12ms/step - loss: 0.0026\n"
          ]
        },
        {
          "output_type": "execute_result",
          "data": {
            "text/plain": [
              "<keras.callbacks.History at 0x7fbbf1729250>"
            ]
          },
          "metadata": {},
          "execution_count": 21
        }
      ]
    },
    {
      "cell_type": "code",
      "metadata": {
        "_uuid": "da7338ba384e18f235cd083bd9602c848e7ec8cb",
        "id": "zqXIB0TGcpEE"
      },
      "source": [
        "# Prediksi Model RNN\n",
        "rnn_predictions = rnn_model.predict(test_x)\n",
        "rnn_score = r2_score(test_y,rnn_predictions)"
      ],
      "execution_count": null,
      "outputs": []
    },
    {
      "cell_type": "code",
      "metadata": {
        "scrolled": true,
        "id": "CIaDvUuscpEE",
        "colab": {
          "base_uri": "https://localhost:8080/"
        },
        "outputId": "6445978f-489d-4153-f034-4bfda05708bf"
      },
      "source": [
        "rnn_score"
      ],
      "execution_count": null,
      "outputs": [
        {
          "output_type": "execute_result",
          "data": {
            "text/plain": [
              "0.8869979396576297"
            ]
          },
          "metadata": {},
          "execution_count": 23
        }
      ]
    },
    {
      "cell_type": "markdown",
      "metadata": {
        "_uuid": "0ed6338b04615f1c9b8aee0c017a21c5f6c9f44e",
        "id": "KtfwVnPIcpEE"
      },
      "source": [
        "# Latihan (4)\n",
        "\n",
        "###  Build Model - LSTM"
      ]
    },
    {
      "cell_type": "code",
      "metadata": {
        "_uuid": "b0281b303bd5e032c2115cdf9d6c184908f9bd03",
        "id": "J9ZJACihcpEE"
      },
      "source": [
        "# buat varibel penampung model LSTM\n",
        "lstm_model = Sequential()"
      ],
      "execution_count": null,
      "outputs": []
    },
    {
      "cell_type": "code",
      "metadata": {
        "_uuid": "fcb29b0dffb87ef05bc4b1c7ce2c03e9fc166770",
        "id": "sw6KzPOWcpEE"
      },
      "source": [
        "# Add a LSTM layer with 40 internal units. dengan Dropout sebesar 0.15\n",
        "lstm_model.add(LSTM(40,activation=\"tanh\",return_sequences=True, \n",
        "input_shape=(train_x.shape[1],1)))\n",
        "lstm_model.add(Dropout(0.15))\n",
        "\n",
        "lstm_model.add(LSTM(40,activation=\"tanh\",return_sequences=True))\n",
        "lstm_model.add(Dropout(0.15))\n",
        "\n",
        "lstm_model.add(LSTM(40,activation=\"tanh\",return_sequences=False))\n",
        "lstm_model.add(Dropout(0.15))\n",
        "\n",
        "# Add a Dense layer with 1 units.\n",
        "lstm_model.add(Dense(1))"
      ],
      "execution_count": null,
      "outputs": []
    },
    {
      "cell_type": "code",
      "metadata": {
        "_uuid": "d9db1d5c8f05a80cedc9b603b518760266ce6776",
        "id": "5RK3hAZFcpEF"
      },
      "source": [
        "# menambahkan loss function kedalam model lstm dengan tipe MSE\n",
        "\n",
        "lstm_model.compile(optimizer=\"adam\",loss=\"MSE\")\n"
      ],
      "execution_count": null,
      "outputs": []
    },
    {
      "cell_type": "code",
      "metadata": {
        "_uuid": "605f71e78831cbef65aef8638670a4fa95b77e85",
        "id": "oxhYUNW7cpEF",
        "colab": {
          "base_uri": "https://localhost:8080/"
        },
        "outputId": "6332212a-54bb-4564-cf99-d1cbb039eedc"
      },
      "source": [
        "# fit lstm model, dengan epoch 20 dan batch size 25\n",
        "\n",
        "lstm_model.fit(train_x,train_y,epochs=20,batch_size=25)"
      ],
      "execution_count": null,
      "outputs": [
        {
          "output_type": "stream",
          "name": "stdout",
          "text": [
            "Epoch 1/20\n",
            "100/100 [==============================] - 6s 21ms/step - loss: 0.0145\n",
            "Epoch 2/20\n",
            "100/100 [==============================] - 2s 21ms/step - loss: 0.0034\n",
            "Epoch 3/20\n",
            "100/100 [==============================] - 2s 21ms/step - loss: 0.0031\n",
            "Epoch 4/20\n",
            "100/100 [==============================] - 2s 22ms/step - loss: 0.0027\n",
            "Epoch 5/20\n",
            "100/100 [==============================] - 2s 21ms/step - loss: 0.0027\n",
            "Epoch 6/20\n",
            "100/100 [==============================] - 2s 21ms/step - loss: 0.0025\n",
            "Epoch 7/20\n",
            "100/100 [==============================] - 2s 21ms/step - loss: 0.0024\n",
            "Epoch 8/20\n",
            "100/100 [==============================] - 2s 21ms/step - loss: 0.0029\n",
            "Epoch 9/20\n",
            "100/100 [==============================] - 2s 21ms/step - loss: 0.0022\n",
            "Epoch 10/20\n",
            "100/100 [==============================] - 2s 21ms/step - loss: 0.0021\n",
            "Epoch 11/20\n",
            "100/100 [==============================] - 2s 21ms/step - loss: 0.0022\n",
            "Epoch 12/20\n",
            "100/100 [==============================] - 2s 21ms/step - loss: 0.0019\n",
            "Epoch 13/20\n",
            "100/100 [==============================] - 2s 21ms/step - loss: 0.0019\n",
            "Epoch 14/20\n",
            "100/100 [==============================] - 2s 21ms/step - loss: 0.0019\n",
            "Epoch 15/20\n",
            "100/100 [==============================] - 2s 21ms/step - loss: 0.0018\n",
            "Epoch 16/20\n",
            "100/100 [==============================] - 2s 21ms/step - loss: 0.0017\n",
            "Epoch 17/20\n",
            "100/100 [==============================] - 2s 21ms/step - loss: 0.0017\n",
            "Epoch 18/20\n",
            "100/100 [==============================] - 2s 21ms/step - loss: 0.0016\n",
            "Epoch 19/20\n",
            "100/100 [==============================] - 2s 21ms/step - loss: 0.0016\n",
            "Epoch 20/20\n",
            "100/100 [==============================] - 2s 21ms/step - loss: 0.0016\n"
          ]
        },
        {
          "output_type": "execute_result",
          "data": {
            "text/plain": [
              "<keras.callbacks.History at 0x7fbbf15d6b90>"
            ]
          },
          "metadata": {},
          "execution_count": 27
        }
      ]
    },
    {
      "cell_type": "code",
      "metadata": {
        "_uuid": "411eafbf6eb7f155f10461be59d6ab371893e62f",
        "id": "MbMsFP3McpEF"
      },
      "source": [
        "# Prediksi Model LSTM\n",
        "lstm_predictions = lstm_model.predict(test_x)\n",
        "\n",
        "lstm_score = r2_score(test_y,lstm_predictions)"
      ],
      "execution_count": null,
      "outputs": []
    },
    {
      "cell_type": "code",
      "metadata": {
        "_uuid": "6940c2d59c0762be788df610509d5b73373e38a0",
        "scrolled": true,
        "id": "hUeGj6_scpEG",
        "colab": {
          "base_uri": "https://localhost:8080/"
        },
        "outputId": "d0a6b046-21a9-41ac-df56-405f30977f63"
      },
      "source": [
        "lstm_score"
      ],
      "execution_count": null,
      "outputs": [
        {
          "output_type": "execute_result",
          "data": {
            "text/plain": [
              "0.8853686729477379"
            ]
          },
          "metadata": {},
          "execution_count": 29
        }
      ]
    },
    {
      "cell_type": "markdown",
      "metadata": {
        "_uuid": "0ed6338b04615f1c9b8aee0c017a21c5f6c9f44e",
        "id": "iukhgnwccpEG"
      },
      "source": [
        "# Latihan (5)\n",
        "\n",
        "### Evaluation"
      ]
    },
    {
      "cell_type": "code",
      "metadata": {
        "_uuid": "1e2dcc7ce554b96eeefe27b7a34e1194351b54f3",
        "id": "WN19lqBQcpEH",
        "colab": {
          "base_uri": "https://localhost:8080/"
        },
        "outputId": "e9284ffb-8199-4fef-e344-3602fc7ede51"
      },
      "source": [
        "# Cetak nilai prediksi masing-masing model dengan menggunakan r^2 square\n",
        "\n",
        "print(\"R^2 Score of RNN\",rnn_score)\n",
        "print(\"R^2 Score of LSTM\",lstm_score)"
      ],
      "execution_count": null,
      "outputs": [
        {
          "output_type": "stream",
          "name": "stdout",
          "text": [
            "R^2 Score of RNN 0.8869979396576297\n",
            "R^2 Score of LSTM 0.8853686729477379\n"
          ]
        }
      ]
    },
    {
      "cell_type": "markdown",
      "metadata": {
        "id": "QJvL1leOcpEH"
      },
      "source": [
        "### Visualisasi Perbandingan Hasil Model prediksi dengan data original "
      ]
    },
    {
      "cell_type": "code",
      "metadata": {
        "_uuid": "feeb5905d3e1767d3d4cd93e4ce834d6f89e98fc",
        "id": "wcoxmRtCcpEH"
      },
      "source": [
        "lstm_predictions = scaler.inverse_transform(lstm_predictions)\n",
        "rnn_predictions = scaler.inverse_transform(rnn_predictions)\n",
        "test_y = scaler.inverse_transform(test_y.reshape(-1,1))"
      ],
      "execution_count": null,
      "outputs": []
    },
    {
      "cell_type": "code",
      "metadata": {
        "_uuid": "e9cf7c92445b1ec84e7597139cf49770b8282924",
        "id": "K7yJnmcacpEH",
        "colab": {
          "base_uri": "https://localhost:8080/",
          "height": 721
        },
        "outputId": "56246032-f0ab-49c8-bf7f-f28ecc74164d"
      },
      "source": [
        "plt.figure(figsize=(16,12))\n",
        "\n",
        "plt.plot(test_y, c=\"blue\",linewidth=2, label=\"original\")\n",
        "plt.plot(lstm_predictions, c=\"green\",linewidth=2, label=\"LSTM\")\n",
        "plt.plot(rnn_predictions, c=\"red\",linewidth=2, label=\"RNN\")\n",
        "plt.legend()\n",
        "plt.title(\"PERBANDINGAN\",fontsize=20)\n",
        "plt.grid()\n",
        "plt.show()"
      ],
      "execution_count": null,
      "outputs": [
        {
          "output_type": "display_data",
          "data": {
            "image/png": "[encoded data removed]",
            "text/plain": [
              "<Figure size 1152x864 with 1 Axes>"
            ]
          },
          "metadata": {
            "needs_background": "light"
          }
        }
      ]
    },
    {
      "cell_type": "markdown",
      "metadata": {
        "_uuid": "4d17d70b478ab4281e931edfdf258db7f727efa5",
        "id": "sYWqJrR2cpEH"
      },
      "source": [
        "## Berikan Kesimpulan Anda!"
      ]
    },
    {
      "cell_type": "code",
      "metadata": {
        "_uuid": "80048aaf1eba053202fd8972548c3f0ce57bd360",
        "id": "BWDRH0CecpEH"
      },
      "source": [
        "# write here"
      ],
      "execution_count": null,
      "outputs": []
    },
    {
      "cell_type": "markdown",
      "metadata": {
        "id": "vq95HtJtp-Pw"
      },
      "source": [
        "Dilihat dari nilai R-Squared pada kedua model tersebut yang berfungsi untuk mengukur tingkat keberhasilan pada masing - masing model dalam memprediksi nilai variabel dependen. Model RNN mempunyai nilai R-square yang lebih besar. Selain itu, berdasarkan hasil visualisasi diatas, terlihat bahwa hasil model prediksi dengan menggunakan RNN lebih baik daripada LTSM pada kasus ini."
      ]
    }
  ]
}